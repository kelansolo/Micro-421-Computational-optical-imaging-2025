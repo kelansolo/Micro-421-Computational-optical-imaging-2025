{
 "cells": [
  {
   "cell_type": "code",
   "execution_count": null,
   "id": "c9c47fa0-ba56-4021-83a5-3bc0691c1563",
   "metadata": {},
   "outputs": [],
   "source": [
    "import numpy as np\n",
    "import matplotlib.pyplot as plt\n",
    "from ipywidgets import interact, interactive, fixed, interact_manual\n",
    "import ipywidgets as widgets\n",
    "from ipywidgets import FloatSlider\n",
    "import scipy"
   ]
  },
  {
   "cell_type": "markdown",
   "id": "5cf84335-92fe-4054-b8e5-a5fe16640dc9",
   "metadata": {},
   "source": [
    "# GX 01\n",
    "You are given the complex field `01_unknown.npy`. Load the complex array with `np.load(\"01_unknown.npy\")`.\n",
    "The wavelength is 633nm and the physical pixel size of the image is 1µm.\n",
    "\n",
    "\n",
    "## Tasks\n",
    "### 1\n",
    "What is the correct negative propagation (backwards) distance to obtain a sharp, meaningful image?\n",
    "\n",
    "\n",
    "### 2 Bonus\n",
    "What happens if you scale the pixel size and the propagation distance by a factor of 10. Does it still work? Try it out and explain what happens.\n",
    "What would you need to change to make it work again."
   ]
  },
  {
   "cell_type": "code",
   "execution_count": null,
   "id": "193b75e5-cd36-49de-8ef5-fb631bb753bf",
   "metadata": {},
   "outputs": [],
   "source": []
  },
  {
   "cell_type": "code",
   "execution_count": null,
   "id": "5d21c948-b844-44fe-946c-6322efa616cf",
   "metadata": {},
   "outputs": [],
   "source": []
  },
  {
   "cell_type": "code",
   "execution_count": null,
   "id": "a950133d-85b9-4541-8b68-e20e57501e2e",
   "metadata": {},
   "outputs": [],
   "source": []
  },
  {
   "cell_type": "code",
   "execution_count": null,
   "id": "48446390-4736-4978-ae18-1cc638251342",
   "metadata": {
    "scrolled": true
   },
   "outputs": [],
   "source": []
  },
  {
   "cell_type": "code",
   "execution_count": null,
   "id": "0dc4a118-02bf-4402-91c5-40bcab300ca7",
   "metadata": {},
   "outputs": [],
   "source": []
  },
  {
   "cell_type": "code",
   "execution_count": null,
   "id": "fee246f2-b6f2-4747-a523-29c77c23c108",
   "metadata": {},
   "outputs": [],
   "source": []
  }
 ],
 "metadata": {
  "kernelspec": {
   "display_name": "Python 3 (ipykernel)",
   "language": "python",
   "name": "python3"
  },
  "language_info": {
   "codemirror_mode": {
    "name": "ipython",
    "version": 3
   },
   "file_extension": ".py",
   "mimetype": "text/x-python",
   "name": "python",
   "nbconvert_exporter": "python",
   "pygments_lexer": "ipython3",
   "version": "3.13.2"
  }
 },
 "nbformat": 4,
 "nbformat_minor": 5
}
