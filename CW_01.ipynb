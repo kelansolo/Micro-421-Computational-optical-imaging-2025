{
 "cells": [
  {
   "cell_type": "markdown",
   "id": "51000653-7cfe-4ae9-9623-56f3d81e9b59",
   "metadata": {},
   "source": [
    "# CW01"
   ]
  },
  {
   "cell_type": "code",
   "execution_count": 2,
   "id": "82b1f656-9d8a-4b21-bcc8-36f4e7b41e41",
   "metadata": {},
   "outputs": [
    {
     "ename": "ModuleNotFoundError",
     "evalue": "No module named 'numpy'",
     "output_type": "error",
     "traceback": [
      "\u001b[1;31m---------------------------------------------------------------------------\u001b[0m",
      "\u001b[1;31mModuleNotFoundError\u001b[0m                       Traceback (most recent call last)",
      "Cell \u001b[1;32mIn[2], line 1\u001b[0m\n\u001b[1;32m----> 1\u001b[0m \u001b[38;5;28;01mimport\u001b[39;00m\u001b[38;5;250m \u001b[39m\u001b[38;5;21;01mnumpy\u001b[39;00m\u001b[38;5;250m \u001b[39m\u001b[38;5;28;01mas\u001b[39;00m\u001b[38;5;250m \u001b[39m\u001b[38;5;21;01mnp\u001b[39;00m\n\u001b[0;32m      2\u001b[0m \u001b[38;5;28;01mimport\u001b[39;00m\u001b[38;5;250m \u001b[39m\u001b[38;5;21;01mmatplotlib\u001b[39;00m\u001b[38;5;21;01m.\u001b[39;00m\u001b[38;5;21;01mpyplot\u001b[39;00m\u001b[38;5;250m \u001b[39m\u001b[38;5;28;01mas\u001b[39;00m\u001b[38;5;250m \u001b[39m\u001b[38;5;21;01mplt\u001b[39;00m\n\u001b[0;32m      3\u001b[0m \u001b[38;5;28;01mfrom\u001b[39;00m\u001b[38;5;250m \u001b[39m\u001b[38;5;21;01mipywidgets\u001b[39;00m\u001b[38;5;250m \u001b[39m\u001b[38;5;28;01mimport\u001b[39;00m interact, interactive, fixed, interact_manual\n",
      "\u001b[1;31mModuleNotFoundError\u001b[0m: No module named 'numpy'"
     ]
    }
   ],
   "source": [
    "import numpy as np\n",
    "import matplotlib.pyplot as plt\n",
    "from ipywidgets import interact, interactive, fixed, interact_manual\n",
    "import ipywidgets as widgets\n",
    "from ipywidgets import FloatSlider\n",
    "import scipy"
   ]
  },
  {
   "cell_type": "markdown",
   "id": "e52d150c-cdd7-47fc-88f9-54a9a3c3ab9c",
   "metadata": {},
   "source": [
    "# 1. Free Space Wave Propagation\n",
    "\n",
    "Try to simulate the following scenario:\n",
    "A plane wave is illuminating a diffraction grating with 10µm spacing. The grating itself has a size of 100µm in both dimensions. The wavelength is 633nm. Use 1024 data points for each dimension. The overall array size is 1mm.\n",
    "\n",
    "\n",
    "Include the following keywords for ChatGPT to generate the code:\n",
    "- Optical Wave Propagation function based on the Angular Spectrum\n",
    "- Python numpy\n",
    "- the given function signature for the angular spectrum\n",
    "\n",
    "## 1.1 \n",
    "Propagate 1mm in propagation distance. Plot both the intensity of the initial field and also the intensity for the 1mm propagated field.\n",
    "Change the grating spacing, what happens?\n",
    "\n",
    "## 1.2\n",
    "Answer for which z distance the different diffraction components separate (orders of the grating). Give geometrical reasoning for this value.\n",
    "*Think about which spatialy frequency of the grating results in which angle of propagation*.\n",
    "\n",
    "You can use the interactive sliders to play around.\n",
    "\n",
    "\n",
    "## 1.3\n",
    "Can you adapt the code (use ChatGPT) to propagate for many different z values.\n",
    "Plot the cross section of x-z.\n",
    "\n",
    "## 1.4\n",
    "What happens for very long propagation distances such as 50mm, 100mm? Is the result physical correct? Why do you think so?\n"
   ]
  },
  {
   "cell_type": "code",
   "execution_count": 1,
   "id": "0bab470e-13fa-45ef-98d2-4ced6e3cf8c6",
   "metadata": {},
   "outputs": [],
   "source": [
    "def angular_spectrum_propagation(U0, wvl, d, dx):\n",
    "    k = 2*np.pi/wvl #wave number\n",
    "    ny, nx = U0.shape\n",
    "\n",
    "    #frequency coordinates\n",
    "    fx = np.fft.fftfreq(nx, dx)\n",
    "    fy = np.fft.fftfreq(ny, dx)\n",
    "    FX,FY = np.meshgrid(fx,fy)\n",
    "\n",
    "    # compute the Fourier transform of the input field\n",
    "    H = np.exp(1j * k * d * np.sqrt(1 - (wvl * FX) ** 2 - (wvl * FY) ** 2))\n",
    "\n",
    "    # Avoid evanescent waves (set them to 0)\n",
    "    H[np.isnan(H)] = 0\n",
    "\n",
    "    # Apply the transfer function in the Fourier domain\n",
    "    U1 = np.fft.ifft2(np.fft.fft2(U0) * H)\n",
    "\n",
    "    return U1"
   ]
  },
  {
   "cell_type": "code",
   "execution_count": null,
   "id": "7fb26ece-39d6-482c-8fe1-60f9f3182238",
   "metadata": {},
   "outputs": [],
   "source": []
  },
  {
   "cell_type": "code",
   "execution_count": null,
   "id": "c4498a22-baaa-4f5a-a454-e76c830a0b27",
   "metadata": {},
   "outputs": [],
   "source": []
  },
  {
   "cell_type": "code",
   "execution_count": null,
   "id": "19f8d069-25d8-4a84-98ab-a2573e1ce186",
   "metadata": {},
   "outputs": [],
   "source": []
  },
  {
   "cell_type": "code",
   "execution_count": null,
   "id": "ffefffc7-c792-4ebd-85f6-c588b4026e75",
   "metadata": {},
   "outputs": [],
   "source": []
  },
  {
   "cell_type": "code",
   "execution_count": null,
   "id": "2467e948-92c7-459b-9a61-b2eb7d8bd466",
   "metadata": {},
   "outputs": [],
   "source": []
  },
  {
   "cell_type": "code",
   "execution_count": null,
   "id": "3e758f22-e1f6-45c4-afd0-a54f306d0d14",
   "metadata": {},
   "outputs": [],
   "source": []
  },
  {
   "cell_type": "code",
   "execution_count": null,
   "id": "a4547b75-6aa8-4322-81e3-e52526d457d9",
   "metadata": {},
   "outputs": [],
   "source": [
    "def propagate_and_plot(z, wvl, grating_period):\n",
    "\n",
    "    # TODO fill in the graps to build a new grating on the function parameters \n",
    "    grating = TODO\n",
    "    \n",
    "    \n",
    "    u_prop = angular_spectrum_propagation(grating, wvl, z, dx)\n",
    "    # Display the grating\n",
    "    plt.figure(figsize=(6, 6))\n",
    "    plt.imshow(np.abs(u_prop)**2, cmap=\"gray\", extent=[-0.5, 0.5, -0.5, 0.5])\n",
    "    plt.colorbar(label=\"Amplitude\")\n",
    "    plt.title(\"Grating Pattern propagated 1mm\")\n",
    "    plt.xlabel(\"X (mm)\")\n",
    "    plt.ylabel(\"Y (mm)\")\n",
    "    plt.show()"
   ]
  },
  {
   "cell_type": "code",
   "execution_count": null,
   "id": "885f3d3f-c8fd-403f-bcf0-696fce8e1d23",
   "metadata": {},
   "outputs": [],
   "source": [
    "# this provides an interactive slider to play around\n",
    "interact(propagate_and_plot, z=FloatSlider(min=50e-6, max=5e-3, step=100e-6, readout_format='.6f'),\\\n",
    "        wvl=FloatSlider(min=400e-9, max=800e-9, step=10e-9, readout_format='.10f'),\\\n",
    "        grating_period=FloatSlider(value=10e-6, min=5e-6, max=50e-6, step=2e-6, readout_format='.10f'));"
   ]
  },
  {
   "cell_type": "code",
   "execution_count": null,
   "id": "803f5bc9-8e31-442e-b321-3ed79601f8fe",
   "metadata": {},
   "outputs": [],
   "source": []
  },
  {
   "cell_type": "code",
   "execution_count": null,
   "id": "d9fed87a-12c8-4a73-bdc9-6fdc26e9586d",
   "metadata": {},
   "outputs": [],
   "source": []
  },
  {
   "cell_type": "markdown",
   "id": "bd7d0216-18be-4a0c-af09-f042e508d3ad",
   "metadata": {},
   "source": [
    "# 2 Double Slit Experiment\n",
    "\n",
    "Calculate the 2D intensity of a double slit with slit width 2µm and slit distance 20µm.\n",
    "Use 1024 samples for each dimension again. The pixel pitch is 1µm.\n",
    "Propagate the pattern for 1.5mm. \n",
    "\n",
    "Does this match the theoretical expected curve? (See Wikipedia for the solution). Is the far field condition fulfilled (see Fresnel number)?\n",
    "\n",
    "Just plot a 1D cross section of the propagated field, not the whole image."
   ]
  },
  {
   "cell_type": "code",
   "execution_count": null,
   "id": "bb2b4477-648e-4076-a4a6-6189c6845912",
   "metadata": {},
   "outputs": [],
   "source": []
  },
  {
   "cell_type": "code",
   "execution_count": null,
   "id": "8e7d40ad-da39-4b59-97a2-8e06b0f5470e",
   "metadata": {},
   "outputs": [],
   "source": []
  },
  {
   "cell_type": "code",
   "execution_count": null,
   "id": "b21dfe4e-341f-4c02-9265-a4723fbf2ca4",
   "metadata": {},
   "outputs": [],
   "source": []
  },
  {
   "cell_type": "code",
   "execution_count": null,
   "id": "dae5b593-e50b-4541-9c32-c9442716039e",
   "metadata": {},
   "outputs": [],
   "source": []
  },
  {
   "cell_type": "code",
   "execution_count": null,
   "id": "6ec9e56b-23de-4313-ae86-65f475757881",
   "metadata": {},
   "outputs": [],
   "source": []
  },
  {
   "cell_type": "code",
   "execution_count": null,
   "id": "b33d9ad6-0e3f-45f1-bf09-8e9209837c19",
   "metadata": {},
   "outputs": [],
   "source": []
  },
  {
   "cell_type": "code",
   "execution_count": null,
   "id": "2007477d-1d62-4751-a89b-5a78d3d726b8",
   "metadata": {},
   "outputs": [],
   "source": []
  }
 ],
 "metadata": {
  "kernelspec": {
   "display_name": "Python 3 (ipykernel)",
   "language": "python",
   "name": "python3"
  },
  "language_info": {
   "codemirror_mode": {
    "name": "ipython",
    "version": 3
   },
   "file_extension": ".py",
   "mimetype": "text/x-python",
   "name": "python",
   "nbconvert_exporter": "python",
   "pygments_lexer": "ipython3",
   "version": "3.12.1"
  }
 },
 "nbformat": 4,
 "nbformat_minor": 5
}
